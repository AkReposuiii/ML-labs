{
  "metadata": {
    "kernelspec": {
      "language": "python",
      "display_name": "Python 3",
      "name": "python3"
    },
    "language_info": {
      "pygments_lexer": "ipython3",
      "nbconvert_exporter": "python",
      "version": "3.6.4",
      "file_extension": ".py",
      "codemirror_mode": {
        "name": "ipython",
        "version": 3
      },
      "name": "python",
      "mimetype": "text/x-python"
    },
    "colab": {
      "provenance": [],
      "include_colab_link": true
    }
  },
  "nbformat_minor": 0,
  "nbformat": 4,
  "cells": [
    {
      "cell_type": "markdown",
      "metadata": {
        "id": "view-in-github",
        "colab_type": "text"
      },
      "source": [
        "<a href=\"https://colab.research.google.com/github/AkReposuiii/ML-labs/blob/main/simple_linear_regression_lab_3.ipynb\" target=\"_parent\"><img src=\"https://colab.research.google.com/assets/colab-badge.svg\" alt=\"Open In Colab\"/></a>"
      ]
    },
    {
      "cell_type": "code",
      "source": [
        "21MIS1103-S.Saravana Iyyappan"
      ],
      "metadata": {
        "id": "3HSM2PBkPnwx"
      },
      "execution_count": null,
      "outputs": []
    },
    {
      "cell_type": "markdown",
      "source": [
        "# **Simple Linear Regression**"
      ],
      "metadata": {
        "id": "xwu5o07yFTs3"
      }
    },
    {
      "cell_type": "code",
      "source": [
        "# Step 1 : import library\n",
        "import pandas as pd"
      ],
      "metadata": {
        "id": "fVK5A-wQy7WP",
        "execution": {
          "iopub.status.busy": "2023-03-07T17:35:23.902890Z",
          "iopub.execute_input": "2023-03-07T17:35:23.903291Z",
          "iopub.status.idle": "2023-03-07T17:35:23.940233Z",
          "shell.execute_reply.started": "2023-03-07T17:35:23.903257Z",
          "shell.execute_reply": "2023-03-07T17:35:23.939310Z"
        },
        "trusted": true
      },
      "execution_count": 6,
      "outputs": []
    },
    {
      "cell_type": "code",
      "source": [
        "# Step 2 : import data\n",
        "salary = pd.read_csv('/content/Salary_dataset.csv')"
      ],
      "metadata": {
        "id": "MJQPRsu5zDQf",
        "execution": {
          "iopub.status.busy": "2023-03-07T17:35:23.943956Z",
          "iopub.execute_input": "2023-03-07T17:35:23.944458Z",
          "iopub.status.idle": "2023-03-07T17:35:24.823384Z",
          "shell.execute_reply.started": "2023-03-07T17:35:23.944389Z",
          "shell.execute_reply": "2023-03-07T17:35:24.821975Z"
        },
        "trusted": true
      },
      "execution_count": 7,
      "outputs": []
    },
    {
      "cell_type": "code",
      "source": [
        "# Step 3 : define target (y) and features (X)"
      ],
      "metadata": {
        "id": "7OxOGZW3zFNp",
        "execution": {
          "iopub.status.busy": "2023-03-07T17:35:24.824931Z",
          "iopub.execute_input": "2023-03-07T17:35:24.825271Z",
          "iopub.status.idle": "2023-03-07T17:35:24.829606Z",
          "shell.execute_reply.started": "2023-03-07T17:35:24.825238Z",
          "shell.execute_reply": "2023-03-07T17:35:24.828668Z"
        },
        "trusted": true
      },
      "execution_count": null,
      "outputs": []
    },
    {
      "cell_type": "code",
      "source": [
        "salary.columns"
      ],
      "metadata": {
        "id": "hL57V8aZpLvD",
        "outputId": "f51d76c8-d8e1-4b50-9fb9-aebf0eb84e03",
        "execution": {
          "iopub.status.busy": "2023-03-07T17:35:24.830837Z",
          "iopub.execute_input": "2023-03-07T17:35:24.831565Z",
          "iopub.status.idle": "2023-03-07T17:35:24.847179Z",
          "shell.execute_reply.started": "2023-03-07T17:35:24.831529Z",
          "shell.execute_reply": "2023-03-07T17:35:24.845730Z"
        },
        "trusted": true,
        "colab": {
          "base_uri": "https://localhost:8080/"
        }
      },
      "execution_count": 8,
      "outputs": [
        {
          "output_type": "execute_result",
          "data": {
            "text/plain": [
              "Index(['Unnamed: 0', 'YearsExperience', 'Salary'], dtype='object')"
            ]
          },
          "metadata": {},
          "execution_count": 8
        }
      ]
    },
    {
      "cell_type": "code",
      "source": [
        "y = salary['Salary']\n",
        "print(y)"
      ],
      "metadata": {
        "id": "fPrIG1WQpCAK",
        "execution": {
          "iopub.status.busy": "2023-03-07T17:35:24.851147Z",
          "iopub.execute_input": "2023-03-07T17:35:24.852047Z",
          "iopub.status.idle": "2023-03-07T17:35:24.864062Z",
          "shell.execute_reply.started": "2023-03-07T17:35:24.851995Z",
          "shell.execute_reply": "2023-03-07T17:35:24.862844Z"
        },
        "trusted": true,
        "colab": {
          "base_uri": "https://localhost:8080/"
        },
        "outputId": "c637e820-a1db-4f5c-cd5b-7b8c258f77ef"
      },
      "execution_count": 9,
      "outputs": [
        {
          "output_type": "stream",
          "name": "stdout",
          "text": [
            "0      39344.0\n",
            "1      46206.0\n",
            "2      37732.0\n",
            "3      43526.0\n",
            "4      39892.0\n",
            "5      56643.0\n",
            "6      60151.0\n",
            "7      54446.0\n",
            "8      64446.0\n",
            "9      57190.0\n",
            "10     63219.0\n",
            "11     55795.0\n",
            "12     56958.0\n",
            "13     57082.0\n",
            "14     61112.0\n",
            "15     67939.0\n",
            "16     66030.0\n",
            "17     83089.0\n",
            "18     81364.0\n",
            "19     93941.0\n",
            "20     91739.0\n",
            "21     98274.0\n",
            "22    101303.0\n",
            "23    113813.0\n",
            "24    109432.0\n",
            "25    105583.0\n",
            "26    116970.0\n",
            "27    112636.0\n",
            "28    122392.0\n",
            "29    121873.0\n",
            "Name: Salary, dtype: float64\n"
          ]
        }
      ]
    },
    {
      "cell_type": "code",
      "source": [
        "X = salary[['YearsExperience']]\n",
        "print(X)"
      ],
      "metadata": {
        "id": "oc3snudMpCHi",
        "execution": {
          "iopub.status.busy": "2023-03-07T17:35:24.865719Z",
          "iopub.execute_input": "2023-03-07T17:35:24.866078Z",
          "iopub.status.idle": "2023-03-07T17:35:24.880591Z",
          "shell.execute_reply.started": "2023-03-07T17:35:24.866045Z",
          "shell.execute_reply": "2023-03-07T17:35:24.879245Z"
        },
        "trusted": true,
        "colab": {
          "base_uri": "https://localhost:8080/"
        },
        "outputId": "184c21c3-18b5-4a2c-d18a-e409cdd99408"
      },
      "execution_count": 10,
      "outputs": [
        {
          "output_type": "stream",
          "name": "stdout",
          "text": [
            "    YearsExperience\n",
            "0               1.2\n",
            "1               1.4\n",
            "2               1.6\n",
            "3               2.1\n",
            "4               2.3\n",
            "5               3.0\n",
            "6               3.1\n",
            "7               3.3\n",
            "8               3.3\n",
            "9               3.8\n",
            "10              4.0\n",
            "11              4.1\n",
            "12              4.1\n",
            "13              4.2\n",
            "14              4.6\n",
            "15              5.0\n",
            "16              5.2\n",
            "17              5.4\n",
            "18              6.0\n",
            "19              6.1\n",
            "20              6.9\n",
            "21              7.2\n",
            "22              8.0\n",
            "23              8.3\n",
            "24              8.8\n",
            "25              9.1\n",
            "26              9.6\n",
            "27              9.7\n",
            "28             10.4\n",
            "29             10.6\n"
          ]
        }
      ]
    },
    {
      "cell_type": "code",
      "source": [
        "# Step 4 : train test split\n",
        "from sklearn.model_selection import train_test_split\n",
        "X_train, X_test, y_train, y_test = train_test_split(X,y, train_size=0.7, random_state=2529)"
      ],
      "metadata": {
        "id": "IiWfw8UwzFRA",
        "execution": {
          "iopub.status.busy": "2023-03-07T17:35:24.882243Z",
          "iopub.execute_input": "2023-03-07T17:35:24.882936Z",
          "iopub.status.idle": "2023-03-07T17:35:26.203834Z",
          "shell.execute_reply.started": "2023-03-07T17:35:24.882901Z",
          "shell.execute_reply": "2023-03-07T17:35:26.202088Z"
        },
        "trusted": true
      },
      "execution_count": 11,
      "outputs": []
    },
    {
      "cell_type": "code",
      "source": [
        "# check shape of train and test sample\n",
        "X_train.shape, X_test.shape, y_train.shape, y_test.shape"
      ],
      "metadata": {
        "outputId": "706263f0-1d3e-4d04-a5a9-137d67a32934",
        "id": "KV7ZjtFYpPV3",
        "execution": {
          "iopub.status.busy": "2023-03-07T17:35:26.207021Z",
          "iopub.execute_input": "2023-03-07T17:35:26.208251Z",
          "iopub.status.idle": "2023-03-07T17:35:26.218493Z",
          "shell.execute_reply.started": "2023-03-07T17:35:26.208184Z",
          "shell.execute_reply": "2023-03-07T17:35:26.217276Z"
        },
        "trusted": true,
        "colab": {
          "base_uri": "https://localhost:8080/"
        }
      },
      "execution_count": 12,
      "outputs": [
        {
          "output_type": "execute_result",
          "data": {
            "text/plain": [
              "((21, 1), (9, 1), (21,), (9,))"
            ]
          },
          "metadata": {},
          "execution_count": 12
        }
      ]
    },
    {
      "cell_type": "code",
      "source": [
        "# Step 5 : select model\n",
        "from sklearn.linear_model import LinearRegression\n",
        "model = LinearRegression()"
      ],
      "metadata": {
        "id": "wFrr01gczFUC",
        "execution": {
          "iopub.status.busy": "2023-03-07T17:35:26.220025Z",
          "iopub.execute_input": "2023-03-07T17:35:26.222254Z",
          "iopub.status.idle": "2023-03-07T17:35:26.337338Z",
          "shell.execute_reply.started": "2023-03-07T17:35:26.222216Z",
          "shell.execute_reply": "2023-03-07T17:35:26.334919Z"
        },
        "trusted": true
      },
      "execution_count": 13,
      "outputs": []
    },
    {
      "cell_type": "code",
      "source": [
        "# Step 6 : train or fit model\n",
        "model.fit(X_train,y_train)"
      ],
      "metadata": {
        "id": "H_u0yYWwzFXU",
        "outputId": "a6fb072b-3da8-4480-b951-ebac1bb33864",
        "execution": {
          "iopub.status.busy": "2023-03-07T17:35:26.339465Z",
          "iopub.execute_input": "2023-03-07T17:35:26.340395Z",
          "iopub.status.idle": "2023-03-07T17:35:26.374524Z",
          "shell.execute_reply.started": "2023-03-07T17:35:26.340346Z",
          "shell.execute_reply": "2023-03-07T17:35:26.373177Z"
        },
        "trusted": true,
        "colab": {
          "base_uri": "https://localhost:8080/",
          "height": 75
        }
      },
      "execution_count": 14,
      "outputs": [
        {
          "output_type": "execute_result",
          "data": {
            "text/plain": [
              "LinearRegression()"
            ],
            "text/html": [
              "<style>#sk-container-id-1 {color: black;}#sk-container-id-1 pre{padding: 0;}#sk-container-id-1 div.sk-toggleable {background-color: white;}#sk-container-id-1 label.sk-toggleable__label {cursor: pointer;display: block;width: 100%;margin-bottom: 0;padding: 0.3em;box-sizing: border-box;text-align: center;}#sk-container-id-1 label.sk-toggleable__label-arrow:before {content: \"▸\";float: left;margin-right: 0.25em;color: #696969;}#sk-container-id-1 label.sk-toggleable__label-arrow:hover:before {color: black;}#sk-container-id-1 div.sk-estimator:hover label.sk-toggleable__label-arrow:before {color: black;}#sk-container-id-1 div.sk-toggleable__content {max-height: 0;max-width: 0;overflow: hidden;text-align: left;background-color: #f0f8ff;}#sk-container-id-1 div.sk-toggleable__content pre {margin: 0.2em;color: black;border-radius: 0.25em;background-color: #f0f8ff;}#sk-container-id-1 input.sk-toggleable__control:checked~div.sk-toggleable__content {max-height: 200px;max-width: 100%;overflow: auto;}#sk-container-id-1 input.sk-toggleable__control:checked~label.sk-toggleable__label-arrow:before {content: \"▾\";}#sk-container-id-1 div.sk-estimator input.sk-toggleable__control:checked~label.sk-toggleable__label {background-color: #d4ebff;}#sk-container-id-1 div.sk-label input.sk-toggleable__control:checked~label.sk-toggleable__label {background-color: #d4ebff;}#sk-container-id-1 input.sk-hidden--visually {border: 0;clip: rect(1px 1px 1px 1px);clip: rect(1px, 1px, 1px, 1px);height: 1px;margin: -1px;overflow: hidden;padding: 0;position: absolute;width: 1px;}#sk-container-id-1 div.sk-estimator {font-family: monospace;background-color: #f0f8ff;border: 1px dotted black;border-radius: 0.25em;box-sizing: border-box;margin-bottom: 0.5em;}#sk-container-id-1 div.sk-estimator:hover {background-color: #d4ebff;}#sk-container-id-1 div.sk-parallel-item::after {content: \"\";width: 100%;border-bottom: 1px solid gray;flex-grow: 1;}#sk-container-id-1 div.sk-label:hover label.sk-toggleable__label {background-color: #d4ebff;}#sk-container-id-1 div.sk-serial::before {content: \"\";position: absolute;border-left: 1px solid gray;box-sizing: border-box;top: 0;bottom: 0;left: 50%;z-index: 0;}#sk-container-id-1 div.sk-serial {display: flex;flex-direction: column;align-items: center;background-color: white;padding-right: 0.2em;padding-left: 0.2em;position: relative;}#sk-container-id-1 div.sk-item {position: relative;z-index: 1;}#sk-container-id-1 div.sk-parallel {display: flex;align-items: stretch;justify-content: center;background-color: white;position: relative;}#sk-container-id-1 div.sk-item::before, #sk-container-id-1 div.sk-parallel-item::before {content: \"\";position: absolute;border-left: 1px solid gray;box-sizing: border-box;top: 0;bottom: 0;left: 50%;z-index: -1;}#sk-container-id-1 div.sk-parallel-item {display: flex;flex-direction: column;z-index: 1;position: relative;background-color: white;}#sk-container-id-1 div.sk-parallel-item:first-child::after {align-self: flex-end;width: 50%;}#sk-container-id-1 div.sk-parallel-item:last-child::after {align-self: flex-start;width: 50%;}#sk-container-id-1 div.sk-parallel-item:only-child::after {width: 0;}#sk-container-id-1 div.sk-dashed-wrapped {border: 1px dashed gray;margin: 0 0.4em 0.5em 0.4em;box-sizing: border-box;padding-bottom: 0.4em;background-color: white;}#sk-container-id-1 div.sk-label label {font-family: monospace;font-weight: bold;display: inline-block;line-height: 1.2em;}#sk-container-id-1 div.sk-label-container {text-align: center;}#sk-container-id-1 div.sk-container {/* jupyter's `normalize.less` sets `[hidden] { display: none; }` but bootstrap.min.css set `[hidden] { display: none !important; }` so we also need the `!important` here to be able to override the default hidden behavior on the sphinx rendered scikit-learn.org. See: https://github.com/scikit-learn/scikit-learn/issues/21755 */display: inline-block !important;position: relative;}#sk-container-id-1 div.sk-text-repr-fallback {display: none;}</style><div id=\"sk-container-id-1\" class=\"sk-top-container\"><div class=\"sk-text-repr-fallback\"><pre>LinearRegression()</pre><b>In a Jupyter environment, please rerun this cell to show the HTML representation or trust the notebook. <br />On GitHub, the HTML representation is unable to render, please try loading this page with nbviewer.org.</b></div><div class=\"sk-container\" hidden><div class=\"sk-item\"><div class=\"sk-estimator sk-toggleable\"><input class=\"sk-toggleable__control sk-hidden--visually\" id=\"sk-estimator-id-1\" type=\"checkbox\" checked><label for=\"sk-estimator-id-1\" class=\"sk-toggleable__label sk-toggleable__label-arrow\">LinearRegression</label><div class=\"sk-toggleable__content\"><pre>LinearRegression()</pre></div></div></div></div></div>"
            ]
          },
          "metadata": {},
          "execution_count": 14
        }
      ]
    },
    {
      "cell_type": "code",
      "source": [
        "model.intercept_"
      ],
      "metadata": {
        "id": "8cGEnlCwHgRn",
        "outputId": "48b57b25-82a2-4271-b446-15b40c308aba",
        "execution": {
          "iopub.status.busy": "2023-03-07T17:35:26.376670Z",
          "iopub.execute_input": "2023-03-07T17:35:26.377479Z",
          "iopub.status.idle": "2023-03-07T17:35:26.385850Z",
          "shell.execute_reply.started": "2023-03-07T17:35:26.377409Z",
          "shell.execute_reply": "2023-03-07T17:35:26.384449Z"
        },
        "trusted": true,
        "colab": {
          "base_uri": "https://localhost:8080/"
        }
      },
      "execution_count": 15,
      "outputs": [
        {
          "output_type": "execute_result",
          "data": {
            "text/plain": [
              "24306.39319686479"
            ]
          },
          "metadata": {},
          "execution_count": 15
        }
      ]
    },
    {
      "cell_type": "code",
      "source": [
        "model.coef_"
      ],
      "metadata": {
        "id": "gDMDGuNbHgXn",
        "outputId": "ecbda52e-702f-41c1-8521-94f57344cedc",
        "execution": {
          "iopub.status.busy": "2023-03-07T17:35:26.389398Z",
          "iopub.execute_input": "2023-03-07T17:35:26.389962Z",
          "iopub.status.idle": "2023-03-07T17:35:26.399941Z",
          "shell.execute_reply.started": "2023-03-07T17:35:26.389926Z",
          "shell.execute_reply": "2023-03-07T17:35:26.398680Z"
        },
        "trusted": true,
        "colab": {
          "base_uri": "https://localhost:8080/"
        }
      },
      "execution_count": 16,
      "outputs": [
        {
          "output_type": "execute_result",
          "data": {
            "text/plain": [
              "array([9441.46935165])"
            ]
          },
          "metadata": {},
          "execution_count": 16
        }
      ]
    },
    {
      "cell_type": "code",
      "source": [
        "# Step 7 : predict model\n",
        "y_pred = model.predict(X_test)"
      ],
      "metadata": {
        "id": "vjg625ivzOFF",
        "execution": {
          "iopub.status.busy": "2023-03-07T17:35:26.402076Z",
          "iopub.execute_input": "2023-03-07T17:35:26.402741Z",
          "iopub.status.idle": "2023-03-07T17:35:26.422731Z",
          "shell.execute_reply.started": "2023-03-07T17:35:26.402680Z",
          "shell.execute_reply": "2023-03-07T17:35:26.421345Z"
        },
        "trusted": true
      },
      "execution_count": 17,
      "outputs": []
    },
    {
      "cell_type": "code",
      "source": [
        "y_pred"
      ],
      "metadata": {
        "id": "R026QxgY0RL-",
        "outputId": "dc6c6053-a10e-4a6b-aac0-a8d75c8dede6",
        "execution": {
          "iopub.status.busy": "2023-03-07T17:35:26.427275Z",
          "iopub.execute_input": "2023-03-07T17:35:26.427906Z",
          "iopub.status.idle": "2023-03-07T17:35:26.443976Z",
          "shell.execute_reply.started": "2023-03-07T17:35:26.427787Z",
          "shell.execute_reply": "2023-03-07T17:35:26.442634Z"
        },
        "trusted": true,
        "colab": {
          "base_uri": "https://localhost:8080/"
        }
      },
      "execution_count": 18,
      "outputs": [
        {
          "output_type": "execute_result",
          "data": {
            "text/plain": [
              "array([ 37524.45028917,  75290.32769576,  73402.03382543, 102670.58881554,\n",
              "       110223.76429686,  44133.47883532,  89452.53172323, 114944.49897268,\n",
              "        39412.7441595 ])"
            ]
          },
          "metadata": {},
          "execution_count": 18
        }
      ]
    },
    {
      "cell_type": "code",
      "source": [
        "# Step 8 : model accuracy\n",
        "from sklearn.metrics import mean_absolute_error, mean_absolute_percentage_error, mean_squared_error"
      ],
      "metadata": {
        "id": "hVLD3DUDzOIO",
        "execution": {
          "iopub.status.busy": "2023-03-07T17:35:26.445916Z",
          "iopub.execute_input": "2023-03-07T17:35:26.446361Z",
          "iopub.status.idle": "2023-03-07T17:35:26.454728Z",
          "shell.execute_reply.started": "2023-03-07T17:35:26.446315Z",
          "shell.execute_reply": "2023-03-07T17:35:26.453478Z"
        },
        "trusted": true
      },
      "execution_count": 19,
      "outputs": []
    },
    {
      "cell_type": "code",
      "source": [
        "mean_absolute_error(y_test,y_pred)"
      ],
      "metadata": {
        "id": "baYrB17TtGJ1",
        "outputId": "d32e8960-b394-4061-aee5-d7da88b60425",
        "execution": {
          "iopub.status.busy": "2023-03-07T17:35:26.456906Z",
          "iopub.execute_input": "2023-03-07T17:35:26.457938Z",
          "iopub.status.idle": "2023-03-07T17:35:26.478186Z",
          "shell.execute_reply.started": "2023-03-07T17:35:26.457886Z",
          "shell.execute_reply": "2023-03-07T17:35:26.476564Z"
        },
        "trusted": true,
        "colab": {
          "base_uri": "https://localhost:8080/"
        }
      },
      "execution_count": 20,
      "outputs": [
        {
          "output_type": "execute_result",
          "data": {
            "text/plain": [
              "5137.291513414337"
            ]
          },
          "metadata": {},
          "execution_count": 20
        }
      ]
    },
    {
      "cell_type": "code",
      "source": [
        "mean_absolute_percentage_error(y_test,y_pred)"
      ],
      "metadata": {
        "id": "At9hgrMxtGSU",
        "outputId": "46d1f74c-a68f-4028-d855-3788c9952bf5",
        "execution": {
          "iopub.status.busy": "2023-03-07T17:35:26.479802Z",
          "iopub.execute_input": "2023-03-07T17:35:26.481339Z",
          "iopub.status.idle": "2023-03-07T17:35:26.499778Z",
          "shell.execute_reply.started": "2023-03-07T17:35:26.481286Z",
          "shell.execute_reply": "2023-03-07T17:35:26.498468Z"
        },
        "trusted": true,
        "colab": {
          "base_uri": "https://localhost:8080/"
        }
      },
      "execution_count": 21,
      "outputs": [
        {
          "output_type": "execute_result",
          "data": {
            "text/plain": [
              "0.0706655184547393"
            ]
          },
          "metadata": {},
          "execution_count": 21
        }
      ]
    },
    {
      "cell_type": "code",
      "source": [
        "mean_squared_error(y_test,y_pred)"
      ],
      "metadata": {
        "id": "XfKmuUl_sd7R",
        "outputId": "4c79558f-d4f2-48eb-925a-56785eabf3bc",
        "execution": {
          "iopub.status.busy": "2023-03-07T17:35:26.501292Z",
          "iopub.execute_input": "2023-03-07T17:35:26.501690Z",
          "iopub.status.idle": "2023-03-07T17:35:26.521473Z",
          "shell.execute_reply.started": "2023-03-07T17:35:26.501653Z",
          "shell.execute_reply": "2023-03-07T17:35:26.519520Z"
        },
        "trusted": true,
        "colab": {
          "base_uri": "https://localhost:8080/"
        }
      },
      "execution_count": 22,
      "outputs": [
        {
          "output_type": "execute_result",
          "data": {
            "text/plain": [
              "38750002.34819779"
            ]
          },
          "metadata": {},
          "execution_count": 22
        }
      ]
    },
    {
      "cell_type": "code",
      "source": [
        "\n",
        "\n",
        "import matplotlib.pyplot as plt\n",
        "plt.scatter(X_test, y_test, color = 'red')\n",
        "plt.plot(X_test, y_pred, color = 'blue')\n",
        "plt.title('Salary vs Experience (Test set)')\n",
        "plt.xlabel('Years of Experience')\n",
        "plt.ylabel('Salary')\n",
        "plt.show()\n",
        "print(\"Interpretation:\")\n",
        "print(\"The scatter plot shows the relationship between Years of Experience (x-axis) and Salary (y-axis).\")\n",
        "print(\"The blue line represents the regression line predicted by our model.\")\n",
        "print(\"The intercept of the line (where it crosses the y-axis) indicates the predicted salary for someone with zero years of experience.\")\n",
        "print(\"The slope of the line indicates the predicted increase in salary for each additional year of experience.\")\n"
      ],
      "metadata": {
        "colab": {
          "base_uri": "https://localhost:8080/",
          "height": 559
        },
        "id": "fuZ0ITv-ifda",
        "outputId": "b8f37077-3c0e-48ea-f28c-f85d052dab47"
      },
      "execution_count": 24,
      "outputs": [
        {
          "output_type": "display_data",
          "data": {
            "text/plain": [
              "<Figure size 640x480 with 1 Axes>"
            ],
            "image/png": "[encoded data removed]"
          },
          "metadata": {}
        },
        {
          "output_type": "stream",
          "name": "stdout",
          "text": [
            "Interpretation:\n",
            "The scatter plot shows the relationship between Years of Experience (x-axis) and Salary (y-axis).\n",
            "The blue line represents the regression line predicted by our model.\n",
            "The intercept of the line (where it crosses the y-axis) indicates the predicted salary for someone with zero years of experience.\n",
            "The slope of the line indicates the predicted increase in salary for each additional year of experience.\n"
          ]
        }
      ]
    },
    {
      "cell_type": "markdown",
      "source": [],
      "metadata": {
        "id": "s9_HNfYQQqx3"
      }
    }
  ]
}